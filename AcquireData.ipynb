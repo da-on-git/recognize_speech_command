{
  "nbformat": 4,
  "nbformat_minor": 0,
  "metadata": {
    "colab": {
      "provenance": [],
      "authorship_tag": "ABX9TyNnQ+AH6pMB0SeMZHptCo5y",
      "include_colab_link": true
    },
    "kernelspec": {
      "name": "python3",
      "display_name": "Python 3"
    },
    "language_info": {
      "name": "python"
    }
  },
  "cells": [
    {
      "cell_type": "markdown",
      "metadata": {
        "id": "view-in-github",
        "colab_type": "text"
      },
      "source": [
        "<a href=\"https://colab.research.google.com/github/da-on-git/recognize_speech_command/blob/main/AcquireData.ipynb\" target=\"_parent\"><img src=\"https://colab.research.google.com/assets/colab-badge.svg\" alt=\"Open In Colab\"/></a>"
      ]
    },
    {
      "cell_type": "markdown",
      "source": [
        "Install and import the wget package"
      ],
      "metadata": {
        "id": "BVO2YWw-7wCn"
      }
    },
    {
      "cell_type": "code",
      "execution_count": null,
      "metadata": {
        "id": "j-wllPJh2nyT"
      },
      "outputs": [],
      "source": [
        "%pip install wget\n",
        "import wget"
      ]
    },
    {
      "cell_type": "markdown",
      "source": [
        "Download the file from the URL and assign the downloaded to the variable fname."
      ],
      "metadata": {
        "id": "cmXJBP548AT7"
      }
    },
    {
      "cell_type": "code",
      "source": [
        "url = 'https://lp-prod-resources.s3.us-west-2.amazonaws.com/234/google_speech_new.zip'\n",
        "fname = wget.download(url)"
      ],
      "metadata": {
        "id": "kZTw0FN14RVX"
      },
      "execution_count": null,
      "outputs": []
    },
    {
      "cell_type": "markdown",
      "source": [
        "\\!unzip -q \\$filename -d /content/ is a command in Colab that extracts the contents of a zip file to the /content/ directory:<br>\n",
        "!: This is a special character in Colab that allows you to run shell commands.<br>\n",
        "unzip: This is the command to extract files from a zip archive.<br>\n",
        "-q: This option tells unzip to run in quiet mode, which means it will not print any output unless there is an error.<br>\n",
        "$fname: This is a variable that contains the name of the zip file you downloaded using wget.download(url).<br>\n",
        "-d /content/: This option tells unzip to extract the files to the /content/ directory."
      ],
      "metadata": {
        "id": "JookoP3g8yDB"
      }
    },
    {
      "cell_type": "code",
      "source": [
        "!unzip -q $fname -d /content/\n",
        "import os\n",
        "os.remove(fname)\n",
        "import shutil\n",
        "shutil.rmtree('/content/__MACOSX') #Remov Mac specific files"
      ],
      "metadata": {
        "id": "l6d15zZE58D5"
      },
      "execution_count": null,
      "outputs": []
    },
    {
      "cell_type": "markdown",
      "source": [
        "Use pandas to read and examine the test.csv file"
      ],
      "metadata": {
        "id": "Ob42CB7qUa4H"
      }
    },
    {
      "cell_type": "code",
      "source": [
        "import pandas as pd\n",
        "df = pd.read_csv('/content/google_speech/test/test.csv')\n",
        "df"
      ],
      "metadata": {
        "id": "WdvWpm79UY17"
      },
      "execution_count": null,
      "outputs": []
    },
    {
      "cell_type": "markdown",
      "source": [
        "Load and play a single audio file in a notebook using IPython.display.Audio."
      ],
      "metadata": {
        "id": "fDCYWkhZV2AO"
      }
    },
    {
      "cell_type": "code",
      "source": [
        "from IPython.display import Audio\n",
        "Audio('/content/google_speech/test/audio/cat/0487ba9b_nohash_0.wav')"
      ],
      "metadata": {
        "id": "TKRKCKc9VwBP"
      },
      "execution_count": null,
      "outputs": []
    }
  ]
}